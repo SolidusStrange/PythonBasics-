{
 "cells": [
  {
   "cell_type": "markdown",
   "id": "6d95a3c5",
   "metadata": {},
   "source": [
    "# Ejercicio 1 – Recorrer toda la matriz"
   ]
  },
  {
   "cell_type": "code",
   "execution_count": null,
   "id": "0ad8794b",
   "metadata": {},
   "outputs": [],
   "source": [
    "matriz = [\n",
    "    [1, 2, 3],\n",
    "    [4, 5, 6],\n",
    "    [7, 8, 9]\n",
    "]\n",
    "\n",
    "# Recorre todas las posiciones y muestra:\n",
    "# Fila x, Columna y → valor\n",
    "\n",
    "for fila in range(len(matriz)):\n",
    "    for columna in range(len(matriz[fila])):\n",
    "        valor = matriz[fila][columna]\n",
    "        print(f\"Fila {fila}, Col {columna} → {valor} \")\n"
   ]
  },
  {
   "cell_type": "markdown",
   "id": "c3c28ea2",
   "metadata": {},
   "source": [
    "# Ejercicio 2 – Sumar todos los valores"
   ]
  },
  {
   "cell_type": "code",
   "execution_count": null,
   "id": "1ea13f46",
   "metadata": {},
   "outputs": [],
   "source": [
    "suma = 0\n",
    "for fila in range(len(matriz)):\n",
    "    for columna in range(len(matriz[fila])):\n",
    "        valor = matriz[fila][columna]\n",
    "        suma += valor\n",
    "\n",
    "print(\"La suma es:\", suma)\n"
   ]
  },
  {
   "cell_type": "markdown",
   "id": "bc0ea0eb",
   "metadata": {},
   "source": [
    "# Ejercicio 3 – Encontrar solo números"
   ]
  },
  {
   "cell_type": "code",
   "execution_count": null,
   "id": "03b652ac",
   "metadata": {},
   "outputs": [],
   "source": [
    "matriz_ejercicio = [\n",
    "    [1, \"X\", 3],\n",
    "    [\"O\", 5, 6],\n",
    "    [7, 8, \"O\"]\n",
    "]\n",
    "\n",
    "for fila in range(len(matriz_ejercicio)):\n",
    "    for columna in range(len(matriz_ejercicio[fila])):\n",
    "        valor = matriz_ejercicio[fila][columna]\n",
    "        if isinstance(valor, int):\n",
    "            print(valor)\n"
   ]
  },
  {
   "cell_type": "markdown",
   "id": "e98b6946",
   "metadata": {},
   "source": [
    "# Ejercicio 4 – Contar cuántos \"X\" hay en la matriz"
   ]
  },
  {
   "cell_type": "code",
   "execution_count": null,
   "id": "10989d66",
   "metadata": {},
   "outputs": [],
   "source": [
    "matriz_nueva = [\n",
    "    [\"X\", \"O\", \"X\"],\n",
    "    [\"O\", \"X\", \"O\"],\n",
    "    [\"X\", \"O\", \"O\"]\n",
    "]\n",
    "\n",
    "contador_x = 0\n",
    "\n",
    "for fila in range(len(matriz_nueva)):\n",
    "    for columna in range(len(matriz_nueva[fila])):\n",
    "        valor = matriz_nueva[fila][columna]\n",
    "        if valor == \"X\":\n",
    "            contador_x += 1\n",
    "\n",
    "print(\"Cantidad de X:\", contador_x)\n"
   ]
  },
  {
   "cell_type": "markdown",
   "id": "b9c1d473",
   "metadata": {},
   "source": [
    "# Ejercicio 5 – Reemplazar todos los \"O\" por 0"
   ]
  },
  {
   "cell_type": "code",
   "execution_count": null,
   "id": "4809b8f7",
   "metadata": {},
   "outputs": [],
   "source": [
    "matriz = [\n",
    "    [\"X\", \"O\", \"X\"],\n",
    "    [\"O\", \"X\", \"O\"],\n",
    "    [\"X\", \"O\", \"O\"]\n",
    "]\n",
    "\n",
    "for fila in range(len(matriz)):\n",
    "    for columna in range(len(matriz[fila])):\n",
    "        valor = matriz[fila][columna]\n",
    "        if valor == \"O\":\n",
    "            matriz[fila][columna] = 0\n",
    "\n",
    "for fila in matriz:\n",
    "    print(fila)\n",
    "\n",
    "print(\"Mini reto\")\n",
    "for fila in matriz:\n",
    "    print(\" | \".join(str(valor) for valor in fila))\n"
   ]
  },
  {
   "cell_type": "markdown",
   "id": "e12fd9aa",
   "metadata": {},
   "source": [
    "# Ejercicio 6 – Transponer una matriz"
   ]
  },
  {
   "cell_type": "code",
   "execution_count": null,
   "id": "bb2e8f33",
   "metadata": {},
   "outputs": [],
   "source": [
    "matriz = [\n",
    "    [1, 2, 3],\n",
    "    [4, 5, 6]\n",
    "]\n",
    "\n",
    "matriz_transpuesta = []\n",
    "\n",
    "# Recorremos columnas primero\n",
    "for columna in range(len(matriz[0])):\n",
    "    fila_nueva = []\n",
    "    for fila in range(len(matriz)):\n",
    "        fila_nueva.append(matriz[fila][columna])\n",
    "    matriz_transpuesta.append(fila_nueva)\n",
    "\n",
    "print(matriz_transpuesta)\n"
   ]
  },
  {
   "cell_type": "markdown",
   "id": "1d83d013",
   "metadata": {},
   "source": [
    "# Ejercicio 7 – Sumar filas y columnas"
   ]
  },
  {
   "cell_type": "code",
   "execution_count": null,
   "id": "143f132d",
   "metadata": {},
   "outputs": [],
   "source": [
    "matriz = [\n",
    "    [1, 2, 3],\n",
    "    [4, 5, 6],\n",
    "    [7, 8, 9]\n",
    "]\n",
    "\n",
    "# Imprime la suma de cada columna\n",
    "suma = 0\n",
    "for columna in range(len(matriz[0])):\n",
    "    for fila in range(len(matriz)):\n",
    "        valor = matriz[fila][columna]\n",
    "        suma += valor\n",
    "    print(f\"La suma de la columna {columna} es: {suma}\")\n",
    "    suma = 0\n",
    "\n",
    "# Imprime la suma de cada fila\n",
    "suma = 0\n",
    "for fila in range(len(matriz)):\n",
    "    for columna in range(len(matriz[0])):\n",
    "        valor = matriz[fila][columna]\n",
    "        suma += valor\n",
    "    print(f\"La suma de la fila {fila} es: {suma}\")\n",
    "    suma = 0\n"
   ]
  },
  {
   "cell_type": "markdown",
   "id": "80820fde",
   "metadata": {},
   "source": [
    "# Ejercicio 8 – Buscar valor en matriz"
   ]
  },
  {
   "cell_type": "code",
   "execution_count": null,
   "id": "05c1cc58",
   "metadata": {},
   "outputs": [],
   "source": [
    "matriz = [ \n",
    "          [10, 20, 30, 40],\n",
    "          [40, 50, 60, 50],\n",
    "          [70, 80] \n",
    "]\n",
    "\n",
    "numero = int(input(\"Ingrese un numero: \"))\n",
    "\n",
    "def encontrar_numero(numero, matriz):\n",
    "    encontrado = False\n",
    "    for fila in range(len(matriz)):\n",
    "        for columna in range(len(matriz[fila])):\n",
    "            if matriz[fila][columna] == numero:\n",
    "                encontrado = True\n",
    "                print(f\"{numero} fue encontrado en matriz[{fila}][{columna}]\")\n",
    "    return encontrado\n",
    "\n",
    "if not encontrar_numero(numero, matriz):\n",
    "    print(f\"No se encuentra {numero} en la matriz\")\n"
   ]
  },
  {
   "cell_type": "markdown",
   "id": "a15f318e",
   "metadata": {},
   "source": [
    "# Ejercicio 9 – Encontrar el máximo en la matriz"
   ]
  },
  {
   "cell_type": "code",
   "execution_count": 7,
   "id": "588ed1fd",
   "metadata": {},
   "outputs": [
    {
     "name": "stdout",
     "output_type": "stream",
     "text": [
      "El valor máximo es 9 en la posición (1,0)\n"
     ]
    }
   ],
   "source": [
    "matriz = [\n",
    "    [3, 7, 1],\n",
    "    [9, 2, 8],\n",
    "    [6, 4, 5]\n",
    "]\n",
    "\n",
    "# El número más grande.\n",
    "# Su posición (fila, columna).\n",
    "\n",
    "numero_max = -999999999\n",
    "pos_fila = -1\n",
    "pos_columna = -1\n",
    "\n",
    "for fila in range(len(matriz)):\n",
    "    for columna in range(len(matriz[fila])):\n",
    "        valor = matriz[fila][columna]\n",
    "        if valor > numero_max:\n",
    "            numero_max = valor\n",
    "            pos_fila = fila\n",
    "            pos_columna = columna\n",
    "\n",
    "print(f\"El valor máximo es {numero_max} en la posición ({pos_fila},{pos_columna})\")"
   ]
  },
  {
   "cell_type": "markdown",
   "id": "f5aff93a",
   "metadata": {},
   "source": [
    "# Ejercicio 10 - Diagonal principal y secundaria"
   ]
  },
  {
   "cell_type": "markdown",
   "id": "9bc52794",
   "metadata": {},
   "source": [
    "Con una matriz cuadrada (misma cantidad de filas y columnas):\n",
    "- Imprimir los elementos de la diagonal principal (de arriba izquierda a abajo derecha).\n",
    "- Imprimir los de la diagonal secundaria (de arriba derecha a abajo izquierda)."
   ]
  },
  {
   "cell_type": "code",
   "execution_count": null,
   "id": "d8864418",
   "metadata": {},
   "outputs": [
    {
     "name": "stdout",
     "output_type": "stream",
     "text": [
      "3\n",
      "2\n",
      "5\n",
      "1\n",
      "2\n",
      "6\n"
     ]
    }
   ],
   "source": [
    "#MI RESOLUCIÓN\n",
    "matriz = [\n",
    "    [3, 7, 1],\n",
    "    [9, 2, 8],\n",
    "    [6, 4, 5]\n",
    "]\n",
    "\n",
    "#DIAGONAL IZQUIERDA\n",
    "for fila in range(len(matriz)):\n",
    "    for columna in range(len(matriz[fila])):\n",
    "        valor = matriz[fila][columna]\n",
    "        if (fila - columna) == 0:\n",
    "            print(valor)\n",
    "            \n",
    "#DIAGONAL DERECHA(SOLO SERVIRIA PARA ESTA MATRIZ)\n",
    "for fila in range(len(matriz)):\n",
    "    for columna in range(len(matriz[fila])):\n",
    "        valor = matriz[fila][columna]\n",
    "        if (fila + columna) == 2:\n",
    "            print(valor)\n",
    "            \n",
    "    "
   ]
  },
  {
   "cell_type": "code",
   "execution_count": null,
   "id": "03373c56",
   "metadata": {},
   "outputs": [
    {
     "name": "stdout",
     "output_type": "stream",
     "text": [
      "3\n",
      "2\n",
      "5\n",
      "1\n",
      "2\n",
      "6\n"
     ]
    }
   ],
   "source": [
    "#RESOLUCIÓN COMPLETA (MÁS AMPLIA)\n",
    "\n",
    "matriz = [\n",
    "    [3, 7, 1],\n",
    "    [9, 2, 8],\n",
    "    [6, 4, 5]\n",
    "]\n",
    "\n",
    "n = len(matriz)\n",
    "\n",
    "# Diagonal izquierda\n",
    "for fila in range(n):\n",
    "    print(matriz[fila][fila]) #FILA == COLUMNA ES LO QUE NECESITAMOS (0.0) (1.1) (2.2)\n",
    "\n",
    "# Diagonal derecha\n",
    "for fila in range(n): #(0.2) (1.1) (2.0)\n",
    "    print(matriz[fila][n - 1 - fila]) #fila + columna == n - 1"
   ]
  },
  {
   "cell_type": "code",
   "execution_count": 6,
   "id": "25d1625e",
   "metadata": {},
   "outputs": [
    {
     "name": "stdout",
     "output_type": "stream",
     "text": [
      "[[3, 2, 5], [1, 2, 6]]\n"
     ]
    }
   ],
   "source": [
    "#RESOLUCIÓN COMPLETA (MÁS AMPLIA)\n",
    "\n",
    "matriz = [\n",
    "    [3, 7, 1],\n",
    "    [9, 2, 8],\n",
    "    [6, 4, 5]\n",
    "]\n",
    "\n",
    "n = len(matriz)\n",
    "diagonales = []\n",
    "\n",
    "# Diagonal izquierda\n",
    "temporal = []\n",
    "for fila in range(n):\n",
    "    valor = matriz[fila][fila]    \n",
    "    temporal.append(valor)\n",
    "\n",
    "diagonales.append(temporal)\n",
    "\n",
    "# Diagonal derecha\n",
    "temporal = []\n",
    "for fila in range(n): #(0.2) (1.1) (2.0)\n",
    "    valor = matriz[fila][n - 1 - fila]\n",
    "    temporal.append(valor)\n",
    "    \n",
    "diagonales.append(temporal)\n",
    "\n",
    "print(diagonales)\n",
    "    "
   ]
  }
 ],
 "metadata": {
  "kernelspec": {
   "display_name": "Python 3",
   "language": "python",
   "name": "python3"
  },
  "language_info": {
   "codemirror_mode": {
    "name": "ipython",
    "version": 3
   },
   "file_extension": ".py",
   "mimetype": "text/x-python",
   "name": "python",
   "nbconvert_exporter": "python",
   "pygments_lexer": "ipython3",
   "version": "3.13.3"
  }
 },
 "nbformat": 4,
 "nbformat_minor": 5
}
