{
 "cells": [
  {
   "cell_type": "code",
   "execution_count": null,
   "id": "fc3cdd85-1439-4d12-b37a-3f89f43aaf6c",
   "metadata": {},
   "outputs": [],
   "source": [
    "# Funciones\n",
    "def comprar_entrada():\n",
    "    # Aquí irá la lógica para registrar un comprador\n",
    "    pass\n",
    "\n",
    "def consultar_comprador():\n",
    "    # Aquí irá la lógica para consultar datos de un comprador\n",
    "    pass\n",
    "\n",
    "def cancelar_compra():\n",
    "    # Aquí irá la lógica para cancelar una compra\n",
    "    pass\n",
    "\n",
    "def mostrar_menu():\n",
    "    print(\"MENU PRINCIPAL\")\n",
    "    print(\"1.- Comprar entrada.\")\n",
    "    print(\"2.- Consultar comprador.\")\n",
    "    print(\"3.- Cancelar compra.\")\n",
    "    print(\"4.- Salir.\")\n",
    "\n",
    "# Función principal\n",
    "def main():\n",
    "    while True:\n",
    "        mostrar_menu()\n",
    "        opcion = input(\"Seleccione una opción: \")\n",
    "\n",
    "        if opcion == \"1\":\n",
    "            comprar_entrada()\n",
    "        elif opcion == \"2\":\n",
    "            consultar_comprador()\n",
    "        elif opcion == \"3\":\n",
    "            cancelar_compra()\n",
    "        elif opcion == \"4\":\n",
    "            print(\"Programa terminado...\")\n",
    "            break\n",
    "        else:\n",
    "            print(\"Debe ingresar una opción válida!!\")\n",
    "\n",
    "# Ejecutar el programa\n",
    "if __name__ == \"__main__\":\n",
    "    main()"
   ]
  },
  {
   "cell_type": "code",
   "execution_count": null,
   "id": "a76ab6f9-1719-466f-ad76-508b7c5fcb25",
   "metadata": {},
   "outputs": [],
   "source": [
    "if __name__ == \"__main__\":\n",
    "    main()\n",
    "Esa línea se usa para que cuando importemos ese archivo en otro, no se ejecute el menú automáticamente. \n",
    "Solo se ejecuta el menú cuando ejecutamos ese archivo directamente."
   ]
  }
 ],
 "metadata": {
  "kernelspec": {
   "display_name": "Python 3 (ipykernel)",
   "language": "python",
   "name": "python3"
  },
  "language_info": {
   "codemirror_mode": {
    "name": "ipython",
    "version": 3
   },
   "file_extension": ".py",
   "mimetype": "text/x-python",
   "name": "python",
   "nbconvert_exporter": "python",
   "pygments_lexer": "ipython3",
   "version": "3.13.3"
  }
 },
 "nbformat": 4,
 "nbformat_minor": 5
}
