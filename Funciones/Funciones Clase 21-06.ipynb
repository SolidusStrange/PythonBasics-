{
 "cells": [
  {
   "cell_type": "markdown",
   "id": "fc299eab-0838-47c6-9559-de35879b1d3e",
   "metadata": {},
   "source": [
    "FUNCIONES CLASE 21/06"
   ]
  },
  {
   "cell_type": "code",
   "execution_count": null,
   "id": "f608e01d-4eb8-424a-bfdf-4334d24feaa9",
   "metadata": {},
   "outputs": [],
   "source": [
    "def mi_funcion():\n",
    "    intrucciones"
   ]
  },
  {
   "attachments": {},
   "cell_type": "markdown",
   "id": "24a450c3-6893-4e12-8455-fa1bbf958c6c",
   "metadata": {},
   "source": [
    "La estructura de la función se compone de la siguiente forma:\n",
    "Def palabra reservada (con minúscula)\n",
    "Nombre descriptivo para la función\n",
    "Paréntesis\n",
    "Dos Puntos (:)"
   ]
  },
  {
   "cell_type": "code",
   "execution_count": null,
   "id": "f1750f12-bc49-4e06-a7e2-c11a8cf16ebd",
   "metadata": {},
   "outputs": [],
   "source": [
    "#funcion sin argumento y sin retorno\n",
    "def funcion_sencilla():\n",
    "    print(\"Hola, soy una función sencilla.\")\n",
    "\n",
    "funcion_sencilla()"
   ]
  },
  {
   "cell_type": "code",
   "execution_count": null,
   "id": "2f974471-a291-46a1-a0ce-f93b09742b4d",
   "metadata": {},
   "outputs": [],
   "source": [
    "#funcion sin argumento y con retorno\n"
   ]
  },
  {
   "cell_type": "code",
   "execution_count": null,
   "id": "fe3b9727-81db-4786-92eb-eaf5a56379ba",
   "metadata": {},
   "outputs": [],
   "source": [
    "#funcion con argumento y sin retorno\n"
   ]
  },
  {
   "cell_type": "code",
   "execution_count": null,
   "id": "1c9f107e-ed86-4ce9-a6a7-9aa9ed784ee8",
   "metadata": {},
   "outputs": [],
   "source": [
    "#funcion con argumento y con retorno\n"
   ]
  },
  {
   "cell_type": "markdown",
   "id": "e3346851-8943-49be-b7ca-84c71ecb788c",
   "metadata": {},
   "source": [
    "EJERCICIOS ACTIVIDAD"
   ]
  },
  {
   "cell_type": "code",
   "execution_count": 1,
   "id": "62d5c666-0c71-4d3c-b8f0-ac7d374d9d3b",
   "metadata": {},
   "outputs": [
    {
     "data": {
      "text/plain": [
       "20"
      ]
     },
     "execution_count": 1,
     "metadata": {},
     "output_type": "execute_result"
    }
   ],
   "source": [
    "def resta(a, b):\n",
    "    return a - b\n",
    "\n",
    "resta(30,10) #resultado = 20"
   ]
  },
  {
   "cell_type": "code",
   "execution_count": 2,
   "id": "b3a45241-2f40-4e2f-b3ad-02ae070bfe8a",
   "metadata": {},
   "outputs": [
    {
     "data": {
      "text/plain": [
       "-20"
      ]
     },
     "execution_count": 2,
     "metadata": {},
     "output_type": "execute_result"
    }
   ],
   "source": [
    "def resta(a, b):\n",
    "    return a - b\n",
    "\n",
    "resta(b=30, a=10) #resultado = -20"
   ]
  },
  {
   "cell_type": "code",
   "execution_count": 3,
   "id": "899ae376-cf87-4058-8d22-161821826c4e",
   "metadata": {},
   "outputs": [
    {
     "name": "stdout",
     "output_type": "stream",
     "text": [
      "Bienvenidos a Python\n"
     ]
    }
   ],
   "source": [
    "def funcion():\n",
    "    return \"Bienvenidos a Python\"\n",
    "\n",
    "frase = funcion()\n",
    "print(frase) #Bienvenidos a Python"
   ]
  },
  {
   "cell_type": "code",
   "execution_count": 4,
   "id": "d2fb8110-5233-4b21-8e17-19de6acec2f0",
   "metadata": {},
   "outputs": [
    {
     "name": "stdout",
     "output_type": "stream",
     "text": [
      "Error, faltan parámetros a la función\n"
     ]
    }
   ],
   "source": [
    "def resta(a=None, b=None):\n",
    "    if a == None or b == None:\n",
    "        print(\"Error, faltan parámetros a la función\")\n",
    "        return\n",
    "    return a - b\n",
    "resta()"
   ]
  },
  {
   "cell_type": "code",
   "execution_count": 7,
   "id": "3f475a21-fcf2-4ed5-b378-27959d960dae",
   "metadata": {},
   "outputs": [
    {
     "data": {
      "text/plain": [
       "3500.0"
      ]
     },
     "execution_count": 7,
     "metadata": {},
     "output_type": "execute_result"
    }
   ],
   "source": [
    "def calculo(precio, descuento):\n",
    "    return precio - (precio * descuento / 100)\n",
    "\n",
    "datos = [10000, 10]\n",
    "\n",
    "calculo(5000,30)"
   ]
  },
  {
   "cell_type": "code",
   "execution_count": 9,
   "id": "e0da7204-d89b-4a2e-98b6-71f81c7381b6",
   "metadata": {},
   "outputs": [
    {
     "name": "stdout",
     "output_type": "stream",
     "text": [
      "Buen día Pedro\n"
     ]
    }
   ],
   "source": [
    "def saludo(nombre, mensaje=\"Python\"):\n",
    "    print(mensaje, nombre)\n",
    "\n",
    "saludo(mensaje = \"Buen día\", nombre = \"Pedro\")"
   ]
  },
  {
   "cell_type": "code",
   "execution_count": 23,
   "id": "62cecb2c-d7bd-493e-bd88-2482dce87bd3",
   "metadata": {},
   "outputs": [
    {
     "name": "stdout",
     "output_type": "stream",
     "text": [
      "9\n",
      "3\n",
      "18\n",
      "2.0\n"
     ]
    }
   ],
   "source": [
    "def suma(x,y):\n",
    "    return x + y\n",
    "def resta(n,m):\n",
    "    return n - m\n",
    "def multiplicacion(a , b):\n",
    "    return a*b\n",
    "def division(a,b):\n",
    "    if b!=0:\n",
    "        return a/b\n",
    "    else:\n",
    "        print(\"El denominador no puede ser 0\")\n",
    "\n",
    "print(suma(6,3))\n",
    "print(resta(6,3))\n",
    "print(multiplicacion(6,3))\n",
    "print(division(6,3))"
   ]
  },
  {
   "cell_type": "code",
   "execution_count": 12,
   "id": "ef1c1413-97fd-4457-89af-0f7dcb761a7b",
   "metadata": {},
   "outputs": [
    {
     "data": {
      "text/plain": [
       "21"
      ]
     },
     "execution_count": 12,
     "metadata": {},
     "output_type": "execute_result"
    }
   ],
   "source": [
    "def sumatoria(a):\n",
    "    if a<0:\n",
    "        return 0\n",
    "    return sumatoria(a-1)+a\n",
    "\n",
    "sumatoria(6)"
   ]
  },
  {
   "cell_type": "code",
   "execution_count": 18,
   "id": "582755b3-b0a5-4869-8454-62a62a1e7eab",
   "metadata": {},
   "outputs": [
    {
     "name": "stdout",
     "output_type": "stream",
     "text": [
      "15\n"
     ]
    }
   ],
   "source": [
    "#FUNCION ITERATIVA\n",
    "def sumatoria_iterativa(a):\n",
    "    suma = 0\n",
    "    for i in range(a+1):\n",
    "        suma = suma + i\n",
    "    return suma\n",
    "\n",
    "print(sumatoria_iterativa(5))"
   ]
  },
  {
   "cell_type": "code",
   "execution_count": 17,
   "id": "9781d34c-784b-4012-b4bc-2b85d5b7879f",
   "metadata": {},
   "outputs": [
    {
     "name": "stdout",
     "output_type": "stream",
     "text": [
      "15\n"
     ]
    }
   ],
   "source": [
    "#FUNCION RECURSIVA\n",
    "def sumatoria(a):\n",
    "    if a<0:\n",
    "        return 0\n",
    "    return sumatoria(a-1)+a\n",
    "\n",
    "print(sumatoria(5))"
   ]
  },
  {
   "cell_type": "code",
   "execution_count": 24,
   "id": "deb127ac-8cbd-4180-b5f7-9c7e2206b5ec",
   "metadata": {},
   "outputs": [
    {
     "name": "stdout",
     "output_type": "stream",
     "text": [
      "16\n",
      "32\n"
     ]
    }
   ],
   "source": [
    "#POTENCIA ITERATIVA\n",
    "def potencia_iterativa(base, exponente):\n",
    "    potencia = 1\n",
    "\n",
    "    if exponente==0:\n",
    "        return potencia\n",
    "    \n",
    "    for i in range(exponente):\n",
    "        potencia = potencia * base\n",
    "    return potencia\n",
    "\n",
    "resultado = potencia_iterativa(2, 4)\n",
    "print(resultado)\n",
    "\n",
    "#POTENCIA RECURSIVA\n",
    "def potencia_recursiva(base, exponente):\n",
    "    if exponente==0:\n",
    "        return 1\n",
    "    return potencia_recursiva(base, exponente-1)*base\n",
    "\n",
    "resultado2 = potencia_recursiva(2, 5)\n",
    "print(resultado2)"
   ]
  },
  {
   "cell_type": "code",
   "execution_count": null,
   "id": "69174896-c7df-479b-aec1-cb9082e8133a",
   "metadata": {},
   "outputs": [],
   "source": [
    "#FIBONACCI\n",
    "def fibonacci(num1):\n",
    "    if num1<0:\n",
    "        return 1\n",
    "    \n",
    "    return fibonacci(num1-1)+fibonacci(num1-2)\n",
    "\n",
    "print(fibonacci(6))"
   ]
  },
  {
   "cell_type": "markdown",
   "id": "0e329b64-36b3-4fdf-802e-e13922383131",
   "metadata": {},
   "source": [
    "REVISAR FUNCIONES EN OTRO CÓDIGO Y USARLO COMO LIBRERIA CON IMPORT LIBRERIAS AS L"
   ]
  }
 ],
 "metadata": {
  "kernelspec": {
   "display_name": "Python 3 (ipykernel)",
   "language": "python",
   "name": "python3"
  },
  "language_info": {
   "codemirror_mode": {
    "name": "ipython",
    "version": 3
   },
   "file_extension": ".py",
   "mimetype": "text/x-python",
   "name": "python",
   "nbconvert_exporter": "python",
   "pygments_lexer": "ipython3",
   "version": "3.13.1"
  }
 },
 "nbformat": 4,
 "nbformat_minor": 5
}
