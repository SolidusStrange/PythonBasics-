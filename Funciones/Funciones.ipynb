{
 "cells": [
  {
   "cell_type": "markdown",
   "id": "5cf960a9-94e4-41cb-9c50-f7468fccc800",
   "metadata": {},
   "source": [
    "Una función es un bloque de código reutilizable que se ejecuta cuando se le llama. Permite organizar el programa, evitar repeticiones y hacer que el código sea más legible."
   ]
  },
  {
   "cell_type": "code",
   "execution_count": 2,
   "id": "c4be3941-e211-4ff3-993f-1b2892b0397d",
   "metadata": {},
   "outputs": [],
   "source": [
    "def saludar():\n",
    "    print(\"¡Hola, José!\")"
   ]
  },
  {
   "cell_type": "markdown",
   "id": "54c38a13-6f56-408b-856d-9ed6c48792bc",
   "metadata": {},
   "source": [
    "def → palabra clave para definir la función.\n",
    "\n",
    "saludar → nombre de la función.\n",
    "\n",
    "() → paréntesis obligatorios.\n",
    "\n",
    ": → indica el inicio del bloque de la función.\n",
    "\n",
    "print() → cuerpo de la función."
   ]
  },
  {
   "cell_type": "markdown",
   "id": "ba53c294-08c3-4d48-9848-3c952ed06a38",
   "metadata": {},
   "source": [
    "Llamar a una función\n",
    "saludar()\n"
   ]
  },
  {
   "cell_type": "markdown",
   "id": "f8dcc856-b6a4-4745-aa36-8db26c540a25",
   "metadata": {},
   "source": [
    "Tipos de funciones"
   ]
  },
  {
   "cell_type": "code",
   "execution_count": null,
   "id": "d7ffb5b2-b6b3-4039-92ae-95081506131e",
   "metadata": {},
   "outputs": [],
   "source": [
    "#Sin parámetros y sin retorno\n",
    "def mostrar_mensaje():\n",
    "    print(\"Este es un mensaje fijo.\")"
   ]
  },
  {
   "cell_type": "code",
   "execution_count": null,
   "id": "601eabdf-79f7-47e7-92d4-e994acdc1b45",
   "metadata": {},
   "outputs": [],
   "source": [
    "#Con parámetros\n",
    "def saludar_persona(nombre):\n",
    "    print(f\"Hola, {nombre}!\")\n",
    "#Parámetro → nombre (al definir)\n",
    "#Argumento → \"José\" (al llamar)"
   ]
  },
  {
   "cell_type": "code",
   "execution_count": 3,
   "id": "3ad5990b-5ee5-4fc2-8b91-39c51da7dcd4",
   "metadata": {},
   "outputs": [
    {
     "name": "stdout",
     "output_type": "stream",
     "text": [
      "7\n"
     ]
    }
   ],
   "source": [
    "#Con retorno (return)\n",
    "def sumar(a, b):\n",
    "    return a + b\n",
    "\n",
    "resultado = sumar(3, 4)\n",
    "print(resultado)\n",
    "#return envía un valor de salida."
   ]
  },
  {
   "cell_type": "code",
   "execution_count": null,
   "id": "8b13002e-f06b-489d-882a-2a4ef79f482c",
   "metadata": {},
   "outputs": [],
   "source": [
    "#Parámetros opcionales (con valores por defecto)\n",
    "def saludar(nombre=\"amigo\"):\n",
    "    print(f\"Hola, {nombre}!\")"
   ]
  },
  {
   "cell_type": "code",
   "execution_count": 4,
   "id": "7efac917-3330-42d8-ab22-396d82b4a077",
   "metadata": {},
   "outputs": [
    {
     "name": "stdout",
     "output_type": "stream",
     "text": [
      "14 6\n"
     ]
    }
   ],
   "source": [
    "#Retorno múltiple (tupla)\n",
    "def operaciones(a, b):\n",
    "    suma = a + b\n",
    "    resta = a - b\n",
    "    return suma, resta\n",
    "\n",
    "res1, res2 = operaciones(10, 4)\n",
    "print(res1, res2)"
   ]
  },
  {
   "cell_type": "code",
   "execution_count": 5,
   "id": "be895b57-2d22-407d-bbb7-a15f65e3233a",
   "metadata": {},
   "outputs": [],
   "source": [
    "#Función dentro de otra\n",
    "def principal():\n",
    "    def interna():\n",
    "        print(\"Soy la función interna\")\n",
    "    interna()\n"
   ]
  },
  {
   "cell_type": "markdown",
   "id": "4876b59b-cfc5-4077-b040-78818be16683",
   "metadata": {},
   "source": [
    "Propiedades y conceptos clave\n",
    "\n",
    "| Concepto       | Descripción                                               |\n",
    "| -------------- | --------------------------------------------------------- |\n",
    "| `def`          | Palabra clave para definir funciones                      |\n",
    "| Parámetros     | Variables recibidas al ser llamada                        |\n",
    "| Argumentos     | Valores que se pasan a los parámetros                     |\n",
    "| `return`       | Devuelve un resultado y termina la ejecución              |\n",
    "| Ámbito (scope) | Variables dentro de la función no afectan fuera (locales) |\n",
    "| Documentación  | Se puede usar `\"\"\" \"\"\"` para documentar funciones         |\n",
    "| `pass`         | Se usa para dejar funciones vacías temporalmente          |\n"
   ]
  },
  {
   "cell_type": "code",
   "execution_count": 6,
   "id": "e479f8b5-876b-4dcf-b66d-043e266a0455",
   "metadata": {},
   "outputs": [
    {
     "name": "stdout",
     "output_type": "stream",
     "text": [
      "Help on function saludar in module __main__:\n",
      "\n",
      "saludar(nombre)\n",
      "    Esta función imprime un saludo personalizado.\n",
      "\n"
     ]
    }
   ],
   "source": [
    "#Ejemplo con documentación (docstring)\n",
    "def saludar(nombre):\n",
    "    \"\"\"Esta función imprime un saludo personalizado.\"\"\"\n",
    "    print(f\"Hola, {nombre}\")\n",
    "\n",
    "help(saludar)"
   ]
  },
  {
   "cell_type": "code",
   "execution_count": null,
   "id": "e6bc713f-9374-4cb0-8fa4-cfe0aca9b68a",
   "metadata": {},
   "outputs": [],
   "source": [
    "# Ejemplo con pass (estructura vacía)\n",
    "def funcion_futura():\n",
    "    pass"
   ]
  },
  {
   "cell_type": "code",
   "execution_count": 8,
   "id": "ae34e501-bf3b-46c6-9115-bec95bdd0e8f",
   "metadata": {},
   "outputs": [
    {
     "data": {
      "text/plain": [
       "6"
      ]
     },
     "execution_count": 8,
     "metadata": {},
     "output_type": "execute_result"
    }
   ],
   "source": [
    "#Ejercicio 1: Función que reciba un número y devuelva el doble\n",
    "def doble(n):\n",
    "    return n * 2\n",
    "\n",
    "doble(3) #6"
   ]
  },
  {
   "cell_type": "code",
   "execution_count": 9,
   "id": "dafaf7f6-4b19-4f17-b1dd-6bc03cf62ed6",
   "metadata": {},
   "outputs": [
    {
     "data": {
      "text/plain": [
       "5"
      ]
     },
     "execution_count": 9,
     "metadata": {},
     "output_type": "execute_result"
    }
   ],
   "source": [
    "#Ejercicio 2: Función que reciba un nombre y diga cuántas letras tiene\n",
    "def contar_letras(nombre):\n",
    "    return len(nombre)\n",
    "\n",
    "contar_letras(\"Jaime\") #5"
   ]
  },
  {
   "cell_type": "code",
   "execution_count": 11,
   "id": "4b4cc0bd-9ad0-4174-9d4f-d98c33a1a695",
   "metadata": {},
   "outputs": [
    {
     "data": {
      "text/plain": [
       "8"
      ]
     },
     "execution_count": 11,
     "metadata": {},
     "output_type": "execute_result"
    }
   ],
   "source": [
    "#Ejercicio 3: Función que reciba dos números y devuelva el mayor\n",
    "def mayor(a, b):\n",
    "    if a>b:\n",
    "        return a\n",
    "    else:\n",
    "        return b\n",
    "\n",
    "mayor(5,8) #8"
   ]
  },
  {
   "cell_type": "code",
   "execution_count": 13,
   "id": "3c530b2a-fd79-406d-85d1-38b45f096ade",
   "metadata": {},
   "outputs": [
    {
     "data": {
      "text/plain": [
       "0.5555555555555556"
      ]
     },
     "execution_count": 13,
     "metadata": {},
     "output_type": "execute_result"
    }
   ],
   "source": [
    "#Ejercicio 4: Función con validación de entrada\n",
    "def dividir(a, b):\n",
    "    if b == 0:\n",
    "        return \"No se puede dividir por cero\"\n",
    "\n",
    "    return a/b\n",
    "\n",
    "dividir(5, 9)\n"
   ]
  },
  {
   "cell_type": "code",
   "execution_count": 21,
   "id": "27c34029-c9b4-4659-85d9-303a8810092a",
   "metadata": {},
   "outputs": [
    {
     "name": "stdout",
     "output_type": "stream",
     "text": [
      "1\n",
      "2\n",
      "3\n",
      "4\n",
      "5\n"
     ]
    }
   ],
   "source": [
    "#Ejercicio 5: Función con ciclo interno\n",
    "def contar_hasta(n):\n",
    "    for i in range(1, n + 1):\n",
    "        print(i)\n",
    "\n",
    "contar_hasta(5)"
   ]
  },
  {
   "cell_type": "code",
   "execution_count": 15,
   "id": "8c7f8b06-85c9-40a4-8fac-b8b4ca08d1ce",
   "metadata": {},
   "outputs": [
    {
     "data": {
      "text/plain": [
       "89"
      ]
     },
     "execution_count": 15,
     "metadata": {},
     "output_type": "execute_result"
    }
   ],
   "source": [
    "#Ejercicio 5: Función que use otra función\n",
    "\n",
    "def cuadrado(n):\n",
    "    return n**2\n",
    "\n",
    "def suma_de_cuadrados(a,b):\n",
    "    return cuadrado(a) + cuadrado(b)\n",
    "\n",
    "suma_de_cuadrados(5,8)"
   ]
  },
  {
   "cell_type": "code",
   "execution_count": 18,
   "id": "f5973d6c-021e-4f4c-bfd9-885ebad1c9dd",
   "metadata": {},
   "outputs": [
    {
     "data": {
      "text/plain": [
       "[2, 4, 6, 8]"
      ]
     },
     "execution_count": 18,
     "metadata": {},
     "output_type": "execute_result"
    }
   ],
   "source": [
    "#Ejercicio 6: Función que devuelva una lista\n",
    "def pares_hasta(n):\n",
    "    pares = []\n",
    "    for i in range(2, n+1, 2):\n",
    "        pares.append(i)\n",
    "    return pares\n",
    "    \n",
    "pares_hasta(8) #8"
   ]
  },
  {
   "cell_type": "code",
   "execution_count": 19,
   "id": "5361bc72-6786-4273-854e-e6ce48fc219a",
   "metadata": {},
   "outputs": [
    {
     "name": "stdout",
     "output_type": "stream",
     "text": [
      "José Díaz - Nota: 5 - Estado: Aprobado\n"
     ]
    }
   ],
   "source": [
    "#Ejercicio 7: Función con múltiples parámetros y valores por defecto\n",
    "def imprimir_reporte(nombre, nota, aprobado= True):\n",
    "    estado = \"Aprobado\" if aprobado else \"reprobado\"\n",
    "    print(f\"{nombre} - Nota: {nota} - Estado: {estado}\")\n",
    "\n",
    "imprimir_reporte(\"José Díaz\", 5, True)"
   ]
  },
  {
   "cell_type": "code",
   "execution_count": 20,
   "id": "b60f3eaa-16ea-4d51-9e74-cf59286f7361",
   "metadata": {},
   "outputs": [
    {
     "data": {
      "text/plain": [
       "{'nombre': 'José Díaz', 'edad': 30}"
      ]
     },
     "execution_count": 20,
     "metadata": {},
     "output_type": "execute_result"
    }
   ],
   "source": [
    "#Ejercicio 8: Función con retorno tipo diccionario\n",
    "def info_persona(nombre, edad):\n",
    "    return {\"nombre\": nombre, \"edad\": edad}\n",
    "\n",
    "info_persona(\"José Díaz\", 30)"
   ]
  },
  {
   "cell_type": "markdown",
   "id": "50064a65-ce90-4d33-9381-6c22a73f96fa",
   "metadata": {},
   "source": [
    "✅ Ejercicio 1:\n",
    "Crear una función area_rectangulo(base, altura) que retorne el área.\n",
    "\n",
    "✅ Ejercicio 2:\n",
    "Crear una función es_par(n) que retorne True si el número es par, y False si no.\n",
    "\n",
    "✅ Ejercicio 3:\n",
    "Crear una función filtrar_mayores(lista, edad_limite) que reciba una lista de edades y devuelva una lista nueva con solo las que superan ese límite.\n",
    "\n",
    "✅ Ejercicio 4:\n",
    "Crear una función calcular_descuento(precio, porcentaje=10) que devuelva el precio con descuento aplicado.\n",
    "\n",
    "✅ Ejercicio 5:\n",
    "Crear una función mostrar_menu() que no reciba parámetros, y muestre un menú de opciones numeradas en pantalla.\n",
    "\n",
    "✅ Ejercicio 6:\n",
    "Crear una función sumar_lista(lista) que devuelva la suma de todos los elementos. Si la lista está vacía, devolver 0."
   ]
  }
 ],
 "metadata": {
  "kernelspec": {
   "display_name": "Python 3 (ipykernel)",
   "language": "python",
   "name": "python3"
  },
  "language_info": {
   "codemirror_mode": {
    "name": "ipython",
    "version": 3
   },
   "file_extension": ".py",
   "mimetype": "text/x-python",
   "name": "python",
   "nbconvert_exporter": "python",
   "pygments_lexer": "ipython3",
   "version": "3.13.3"
  }
 },
 "nbformat": 4,
 "nbformat_minor": 5
}
