{
 "cells": [
  {
   "cell_type": "markdown",
   "id": "b4a08cf3-f19b-44a0-80e1-d639aeb5a2a6",
   "metadata": {},
   "source": [
    "Una lista es una colección de elementos ordenados, mutables y que pueden repetirse. Se define con corchetes []."
   ]
  },
  {
   "cell_type": "code",
   "execution_count": null,
   "id": "4d04aae9-3a71-43fa-ac71-9e7d292ac54f",
   "metadata": {},
   "outputs": [],
   "source": [
    "mi_lista = [1, 2, 3, 4]"
   ]
  },
  {
   "cell_type": "markdown",
   "id": "22c7b1fa-31b8-4782-83a4-2d71185f0936",
   "metadata": {},
   "source": [
    "También puede contener diferentes tipos de datos:"
   ]
  },
  {
   "cell_type": "code",
   "execution_count": null,
   "id": "76a1f0e7-1efa-4e05-8531-22b3c60db54f",
   "metadata": {},
   "outputs": [],
   "source": [
    "mi_lista = [1, \"hola\", True, 3.14]"
   ]
  },
  {
   "cell_type": "markdown",
   "id": "fe941883-7b9e-4c4e-af15-69e4c95d4fed",
   "metadata": {},
   "source": [
    "Propiedad\tDescripción\t                                     Ejemplo\n",
    "Ordenadas\tConservan el orden de inserción\t                 [1, 2] != [2, 1]\n",
    "Indexables\tSe accede a sus elementos por índice\t         mi_lista[0]\n",
    "Mutables\tSe pueden modificar\t                             mi_lista[1] = 99\n",
    "Repetibles\tPueden tener elementos duplicados\t             [1, 2, 2, 3]"
   ]
  },
  {
   "cell_type": "markdown",
   "id": "50ed5ab1-7703-4500-b8e1-5035ffbac435",
   "metadata": {},
   "source": [
    "Acceso a elementos"
   ]
  },
  {
   "cell_type": "code",
   "execution_count": null,
   "id": "290f5678-5274-455e-9a71-650787e6fc9d",
   "metadata": {},
   "outputs": [],
   "source": [
    "nombres = [\"Ana\", \"Luis\", \"Carlos\"]\n",
    "print(nombres[0])      # Primer elemento\n",
    "print(nombres[-1])     # Último elemento"
   ]
  },
  {
   "cell_type": "markdown",
   "id": "18b2f0e5-99d6-4d04-bdea-2898023c4750",
   "metadata": {},
   "source": [
    "Modificar elementos"
   ]
  },
  {
   "cell_type": "code",
   "execution_count": null,
   "id": "24dcf828-a18b-4c08-8c0f-3b604527d5b6",
   "metadata": {},
   "outputs": [],
   "source": [
    "nombres[1] = \"Lucía\"\n",
    "print(nombres)  # ['Ana', 'Lucía', 'Carlos']"
   ]
  },
  {
   "cell_type": "markdown",
   "id": "7e6f75e7-9e22-40e5-9762-fdaf68e2e25b",
   "metadata": {},
   "source": [
    "Funciones y métodos comunes"
   ]
  },
  {
   "cell_type": "markdown",
   "id": "24b15281-89d1-4497-9f44-7f6f4f27d0a5",
   "metadata": {},
   "source": [
    "append(): Agrega un elemento al final"
   ]
  },
  {
   "cell_type": "code",
   "execution_count": null,
   "id": "f4e5cd3d-8061-49ef-913a-9c67b0d3cba1",
   "metadata": {},
   "outputs": [],
   "source": [
    "numeros = [1, 2]\n",
    "numeros.append(3)  # [1, 2, 3]"
   ]
  },
  {
   "cell_type": "markdown",
   "id": "019e9a78-8c88-4721-8289-c9a9dc3ba9a0",
   "metadata": {},
   "source": [
    "insert(): Inserta en una posición específica"
   ]
  },
  {
   "cell_type": "code",
   "execution_count": null,
   "id": "0b884a47-5885-49e5-bbdb-a30f3c1d2d20",
   "metadata": {},
   "outputs": [],
   "source": [
    "numeros.insert(1, 10)  # [1, 10, 2, 3]"
   ]
  },
  {
   "cell_type": "markdown",
   "id": "8686797b-e562-44c9-93d2-b7ea2de5527f",
   "metadata": {},
   "source": [
    "remove(): Elimina el primer valor que coincide"
   ]
  },
  {
   "cell_type": "code",
   "execution_count": null,
   "id": "8f906734-e280-452f-b0dd-c1048a361fc2",
   "metadata": {},
   "outputs": [],
   "source": [
    "numeros.remove(10)  # [1, 2, 3]"
   ]
  },
  {
   "cell_type": "markdown",
   "id": "62e8104a-7693-4e18-bd81-0e6a46bbf72f",
   "metadata": {},
   "source": [
    "len(): Largo de la lista"
   ]
  },
  {
   "cell_type": "code",
   "execution_count": null,
   "id": "27c561cb-c55f-47fa-b00f-0efca0031a1d",
   "metadata": {},
   "outputs": [],
   "source": [
    "len(numeros)  # 2"
   ]
  },
  {
   "cell_type": "markdown",
   "id": "258c7b5d-ef80-4079-ad6f-bab06491021e",
   "metadata": {},
   "source": [
    "in: Verificar si un elemento está"
   ]
  },
  {
   "cell_type": "code",
   "execution_count": null,
   "id": "5878615a-fcae-459b-9702-149e2923a1d3",
   "metadata": {},
   "outputs": [],
   "source": [
    "print(2 in numeros)  # True"
   ]
  },
  {
   "cell_type": "markdown",
   "id": "ca311033-54b5-4c7d-8141-3e0aead3f742",
   "metadata": {},
   "source": [
    "count(): Contar cuántas veces aparece un valor"
   ]
  },
  {
   "cell_type": "code",
   "execution_count": null,
   "id": "84ea6544-7bb5-4d8d-ae33-a2cab3cf9a53",
   "metadata": {},
   "outputs": [],
   "source": [
    "[1, 2, 2, 3].count(2)  # 2"
   ]
  },
  {
   "cell_type": "markdown",
   "id": "12f6af12-796d-4fcf-a5fa-958404931ec1",
   "metadata": {},
   "source": [
    "index(): Devuelve el índice de un valor"
   ]
  },
  {
   "cell_type": "code",
   "execution_count": null,
   "id": "83e87cbf-7561-46f4-8ed5-b16ea9b13dac",
   "metadata": {},
   "outputs": [],
   "source": [
    "[\"a\", \"b\", \"c\"].index(\"b\")  # 1"
   ]
  },
  {
   "cell_type": "markdown",
   "id": "2f74e3aa-f22e-499b-82ee-8c6c72f4ce8f",
   "metadata": {},
   "source": [
    "sort(): Ordena la lista (in-place)"
   ]
  },
  {
   "cell_type": "code",
   "execution_count": null,
   "id": "15029470-d434-485a-b480-a23b7aabe8a9",
   "metadata": {},
   "outputs": [],
   "source": [
    "valores = [3, 1, 2]\n",
    "valores.sort()  # [1, 2, 3]"
   ]
  },
  {
   "cell_type": "markdown",
   "id": "bf8488a1-1a8c-4a4d-9712-0d87859d55e6",
   "metadata": {},
   "source": [
    "reverse(): Invierte la lista"
   ]
  },
  {
   "cell_type": "code",
   "execution_count": null,
   "id": "b2c3037e-0391-4d9f-95df-b47b07a7dcf5",
   "metadata": {},
   "outputs": [],
   "source": [
    "valores.reverse()  # [3, 2, 1]"
   ]
  },
  {
   "cell_type": "markdown",
   "id": "37ae8983-6be8-4623-9fc6-bf9e8750588e",
   "metadata": {},
   "source": [
    "Ejercicios simples para practicar funciones"
   ]
  },
  {
   "cell_type": "code",
   "execution_count": 2,
   "id": "337bc823-0442-4a38-992d-3883da15a5d1",
   "metadata": {},
   "outputs": [
    {
     "name": "stdout",
     "output_type": "stream",
     "text": [
      "manzana\n"
     ]
    }
   ],
   "source": [
    "#Crear una lista de 3 frutas y mostrar la segunda\n",
    "frutas = [\"pera\", \"manzana\", \"sandia\"]\n",
    "print(frutas[1])"
   ]
  },
  {
   "cell_type": "code",
   "execution_count": 3,
   "id": "67b632f4-ef23-4a45-85cc-951bfa8f9235",
   "metadata": {},
   "outputs": [
    {
     "name": "stdout",
     "output_type": "stream",
     "text": [
      "['manzana', 'pera', 'platano', 'sandia']\n"
     ]
    }
   ],
   "source": [
    "#Agrega una fruta y luego ordénala\n",
    "frutas.append(\"platano\")\n",
    "frutas.sort()\n",
    "print(frutas)"
   ]
  },
  {
   "cell_type": "code",
   "execution_count": 4,
   "id": "5022c8a9-3c1c-4eb7-8192-e2134fc9b2c2",
   "metadata": {},
   "outputs": [
    {
     "name": "stdout",
     "output_type": "stream",
     "text": [
      "['manzana', 'pera', 'platano']\n"
     ]
    }
   ],
   "source": [
    "#Quita el último elemento y muestra el resultado\n",
    "frutas.pop()\n",
    "print(frutas)"
   ]
  },
  {
   "cell_type": "code",
   "execution_count": 5,
   "id": "431ab984-088e-4c94-8c78-74b047019ad4",
   "metadata": {},
   "outputs": [
    {
     "name": "stdout",
     "output_type": "stream",
     "text": [
      "False\n"
     ]
    }
   ],
   "source": [
    "#Verifica si \"kiwi\" está en la lista\n",
    "print(\"kiwi\" in frutas)"
   ]
  },
  {
   "cell_type": "code",
   "execution_count": 8,
   "id": "5263771d-2679-4724-8eff-7bb1363f5226",
   "metadata": {},
   "outputs": [
    {
     "name": "stdout",
     "output_type": "stream",
     "text": [
      "[1, 2, 3, 4, 5]\n",
      "['rojo', 'verde', 'azul']\n"
     ]
    }
   ],
   "source": [
    "#inserta 3 en la posición faltante\n",
    "numeros = [1 , 2, 4, 5]\n",
    "numeros.insert(2, 3)\n",
    "print(numeros) # [1, 2, 3, 4, 5]\n",
    "\n",
    "# Inserte verde en la posición 1\n",
    "colores = [\"rojo\", \"azul\"]\n",
    "colores.insert(1, \"verde\")\n",
    "print(colores)  # [\"rojo\", \"verde\", \"azul\"]"
   ]
  },
  {
   "cell_type": "code",
   "execution_count": 9,
   "id": "64ecaefd-fa20-47c8-9c79-88d4e10fe6f4",
   "metadata": {},
   "outputs": [
    {
     "name": "stdout",
     "output_type": "stream",
     "text": [
      "['Ana', 'Luis', 'Carlos']\n",
      "[1, 3, 4, 2]\n"
     ]
    }
   ],
   "source": [
    "#Elimine el primer nombre Luis de la lista\n",
    "nombres = [\"Ana\", \"Luis\", \"Luis\", \"Carlos\"]\n",
    "nombres.remove(\"Luis\")\n",
    "print(nombres)  # [\"Ana\", \"Luis\", \"Carlos\"]\n",
    "\n",
    "# Elimine el primer 2 de la lista\n",
    "numeros = [1, 2, 3, 4, 2]\n",
    "numeros.remove(2)\n",
    "print(numeros)  # [1, 3, 4, 2]\n",
    "\n",
    "#Si el valor no está, da error. Puedes usar if valor in lista: antes de usar remove."
   ]
  },
  {
   "cell_type": "code",
   "execution_count": 10,
   "id": "3a4b4057-050a-443c-b544-703f7f00afbc",
   "metadata": {},
   "outputs": [
    {
     "name": "stdout",
     "output_type": "stream",
     "text": [
      "3\n",
      "3\n"
     ]
    }
   ],
   "source": [
    "#Cuente la cantidad de \"a\" que aparecen en la lista\n",
    "letras = [\"a\", \"b\", \"a\", \"c\", \"a\"]\n",
    "print(letras.count(\"a\"))  # 3\n",
    "\n",
    "#Cuente la cantidad de 5 que aparecen en la lista\n",
    "numeros = [5, 5, 1, 2, 5, 3]\n",
    "print(numeros.count(5))  # 3"
   ]
  },
  {
   "cell_type": "code",
   "execution_count": 11,
   "id": "99bf3327-c5bd-4c84-ac16-d21e0aa511f9",
   "metadata": {},
   "outputs": [
    {
     "name": "stdout",
     "output_type": "stream",
     "text": [
      "1\n",
      "3\n"
     ]
    }
   ],
   "source": [
    "#Busca el índice donde está \"Juan\"\n",
    "nombres = [\"Pedro\", \"Juan\", \"María\"]\n",
    "print(nombres.index(\"Juan\"))  # 1\n",
    "\n",
    "#Busca el índice donde está la letra \"o\"\n",
    "vocales = [\"a\", \"e\", \"i\", \"o\", \"u\"]\n",
    "print(vocales.index(\"o\"))  # 3\n",
    "#Si no existe el valor, genera error."
   ]
  },
  {
   "cell_type": "code",
   "execution_count": null,
   "id": "3e1d50c5-2267-4fe5-b01d-33d97740786c",
   "metadata": {},
   "outputs": [],
   "source": [
    "productos = [\"pan\", \"leche\", \"huevo\", \"arroz\", \"leche\"]\n",
    "\n",
    "def mostrar_menu():\n",
    "    print(\"\\n\" + \"-\" * 30)\n",
    "    print(\"       Menú de Productos\")\n",
    "    print(\"-\" * 30)\n",
    "    print(\"1. Ver lista de productos\")\n",
    "    print(\"2. Insertar un producto en una posición específica\")\n",
    "    print(\"3. Agregar producto al final\")\n",
    "    print(\"4. Contar cuántas veces aparece un producto\")\n",
    "    print(\"5. Eliminar una aparición de un producto\")\n",
    "    print(\"6. Ordenar lista alfabéticamente\")\n",
    "    print(\"7. Invertir lista\")\n",
    "    print(\"8. Mostrar la posición de un producto\")\n",
    "    print(\"9. Salir\")\n",
    "\n",
    "def ver_lista():\n",
    "    for i, producto in enumerate(productos, 1):\n",
    "        print(f\"{i}. {producto}\")\n",
    "\n",
    "def insertar_producto():\n",
    "    producto_insertado = input(\"Ingrese el producto a insertar: \").lower()\n",
    "    try:\n",
    "        posicion = int(input(\"Ingrese la posición en la que desea insertar el producto: \"))\n",
    "        if posicion < 0 or posicion > len(productos):\n",
    "            print(f\"La posición está fuera de rango. Se insertará al final.\")\n",
    "        else:\n",
    "            productos.insert(posicion, producto_insertado)\n",
    "            print(f\"'{producto_insertado}' insertado en la posición {posicion}\")\n",
    "    except ValueError:\n",
    "        print(\"Ingrese un valor numérico.\")\n",
    "\n",
    "def agregar_producto():\n",
    "    producto_ingresado = input(\"Ingrese el producto que desea añadir: \").lower()\n",
    "    productos.append(producto_ingresado)\n",
    "    print(f\"'{producto_ingresado}' ingresado.\")\n",
    "\n",
    "def contar_producto():\n",
    "    producto_a_contar = input(\"Ingrese el producto que desea contar en la lista: \")\n",
    "    if producto_a_contar not in productos:\n",
    "        print(f\"El producto '{producto_a_contar}' no está en la lista.\")\n",
    "    else:\n",
    "        cantidad_contada = productos.count(producto_a_contar)\n",
    "        print(f\"La cantidad contada de '{producto_a_contar}' es de {cantidad_contada}\")\n",
    "\n",
    "def eliminar_producto():\n",
    "    producto_eliminado = input(\"Ingrese el producto que desea eliminar: \")\n",
    "    if producto_eliminado not in productos:\n",
    "        print(f\"El producto '{producto_eliminado}' no está en la lista.\")\n",
    "    else:\n",
    "        productos.remove(producto_eliminado)\n",
    "        print(f\"Producto '{producto_eliminado}' eliminado de la lista.\")\n",
    "\n",
    "def ordenar_lista():\n",
    "    productos.sort()\n",
    "    print(\"Lista ordenada de forma alfabética.\")\n",
    "\n",
    "def invertir_lista():\n",
    "    productos.reverse()\n",
    "    print(\"Lista invertida.\")\n",
    "\n",
    "def mostrar_posicion():\n",
    "    indice = input(\"Ingrese el producto que desea ubicar su posición en la lista: \")\n",
    "    if indice not in productos:\n",
    "        print(f\"El producto '{indice}' no está en la lista.\")\n",
    "    else:\n",
    "        posicion = productos.index(indice)\n",
    "        print(f\"El producto '{indice}' está en la posición {posicion + 1} de la lista\")\n",
    "\n",
    "# Bucle principal\n",
    "while True:\n",
    "    mostrar_menu()\n",
    "    opcion = input(\"Elige una opción (1-9): \")\n",
    "\n",
    "    if opcion == \"1\":\n",
    "        ver_lista()\n",
    "    elif opcion == \"2\":\n",
    "        insertar_producto()\n",
    "    elif opcion == \"3\":\n",
    "        agregar_producto()\n",
    "    elif opcion == \"4\":\n",
    "        contar_producto()\n",
    "    elif opcion == \"5\":\n",
    "        eliminar_producto()\n",
    "    elif opcion == \"6\":\n",
    "        ordenar_lista()\n",
    "    elif opcion == \"7\":\n",
    "        invertir_lista()\n",
    "    elif opcion == \"8\":\n",
    "        mostrar_posicion()\n",
    "    elif opcion == \"9\":\n",
    "        print(\"Saliendo del programa...\")\n",
    "        break\n",
    "    else:\n",
    "        print(\"Opción inválida. Intenta de nuevo.\")"
   ]
  }
 ],
 "metadata": {
  "kernelspec": {
   "display_name": "Python 3 (ipykernel)",
   "language": "python",
   "name": "python3"
  },
  "language_info": {
   "codemirror_mode": {
    "name": "ipython",
    "version": 3
   },
   "file_extension": ".py",
   "mimetype": "text/x-python",
   "name": "python",
   "nbconvert_exporter": "python",
   "pygments_lexer": "ipython3",
   "version": "3.13.3"
  }
 },
 "nbformat": 4,
 "nbformat_minor": 5
}
